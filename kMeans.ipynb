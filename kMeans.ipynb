{
 "cells": [
  {
   "cell_type": "markdown",
   "metadata": {},
   "source": [
    "# K-均值聚类算法"
   ]
  },
  {
   "cell_type": "markdown",
   "metadata": {},
   "source": [
    "### K-均值聚类支持函数"
   ]
  },
  {
   "cell_type": "code",
   "execution_count": 1,
   "metadata": {},
   "outputs": [],
   "source": [
    "from numpy import *\n",
    "\n",
    "def loadDataSet(filename):\n",
    "\tdataMat = []\n",
    "\tfr = open(filename)\n",
    "\tfor line in fr.readlines():\n",
    "\t\tcurLine = line.strip().split('\\t')\n",
    "\t\tfltLine = list(map(float,curLine))\n",
    "\t\tdataMat.append(fltLine)\n",
    "\treturn dataMat\n",
    "\n",
    "def distEclud(vecA, vecB):\n",
    "\treturn sqrt(sum(power(vecA - vecB , 2)))\n",
    "\n",
    "def randCent(dataSet, k):\n",
    "\tn = shape(dataSet)[1]\n",
    "\tcentroids = mat(zeros((k, n)))\n",
    "\tfor j in range(n):\n",
    "\t\tminJ = min(dataSet[:,j])\n",
    "\t\trangeJ = float(max(dataSet[:,j]) - minJ)\n",
    "\t\tcentroids[:,j] = minJ + rangeJ * random.rand(k,1)\n",
    "\treturn centroids"
   ]
  },
  {
   "cell_type": "code",
   "execution_count": 2,
   "metadata": {},
   "outputs": [
    {
     "data": {
      "text/plain": [
       "[[1.658985, 4.285136],\n",
       " [-3.453687, 3.424321],\n",
       " [4.838138, -1.151539],\n",
       " [-5.379713, -3.362104],\n",
       " [0.972564, 2.924086],\n",
       " [-3.567919, 1.531611],\n",
       " [0.450614, -3.302219],\n",
       " [-3.487105, -1.724432],\n",
       " [2.668759, 1.594842],\n",
       " [-3.156485, 3.191137],\n",
       " [3.165506, -3.999838],\n",
       " [-2.786837, -3.099354],\n",
       " [4.208187, 2.984927],\n",
       " [-2.123337, 2.943366],\n",
       " [0.704199, -0.479481],\n",
       " [-0.39237, -3.963704],\n",
       " [2.831667, 1.574018],\n",
       " [-0.790153, 3.343144],\n",
       " [2.943496, -3.357075],\n",
       " [-3.195883, -2.283926],\n",
       " [2.336445, 2.875106],\n",
       " [-1.786345, 2.554248],\n",
       " [2.190101, -1.90602],\n",
       " [-3.403367, -2.778288],\n",
       " [1.778124, 3.880832],\n",
       " [-1.688346, 2.230267],\n",
       " [2.592976, -2.054368],\n",
       " [-4.007257, -3.207066],\n",
       " [2.257734, 3.387564],\n",
       " [-2.679011, 0.785119],\n",
       " [0.939512, -4.023563],\n",
       " [-3.674424, -2.261084],\n",
       " [2.046259, 2.735279],\n",
       " [-3.18947, 1.780269],\n",
       " [4.372646, -0.822248],\n",
       " [-2.579316, -3.497576],\n",
       " [1.889034, 5.1904],\n",
       " [-0.798747, 2.185588],\n",
       " [2.83652, -2.658556],\n",
       " [-3.837877, -3.253815],\n",
       " [2.096701, 3.886007],\n",
       " [-2.709034, 2.923887],\n",
       " [3.367037, -3.184789],\n",
       " [-2.121479, -4.232586],\n",
       " [2.329546, 3.179764],\n",
       " [-3.284816, 3.273099],\n",
       " [3.091414, -3.815232],\n",
       " [-3.762093, -2.432191],\n",
       " [3.542056, 2.778832],\n",
       " [-1.736822, 4.241041],\n",
       " [2.127073, -2.98368],\n",
       " [-4.323818, -3.938116],\n",
       " [3.792121, 5.135768],\n",
       " [-4.786473, 3.358547],\n",
       " [2.624081, -3.260715],\n",
       " [-4.009299, -2.978115],\n",
       " [2.493525, 1.96371],\n",
       " [-2.513661, 2.642162],\n",
       " [1.864375, -3.176309],\n",
       " [-3.171184, -3.572452],\n",
       " [2.89422, 2.489128],\n",
       " [-2.562539, 2.884438],\n",
       " [3.491078, -3.947487],\n",
       " [-2.565729, -2.012114],\n",
       " [3.332948, 3.983102],\n",
       " [-1.616805, 3.573188],\n",
       " [2.280615, -2.559444],\n",
       " [-2.651229, -3.103198],\n",
       " [2.321395, 3.154987],\n",
       " [-1.685703, 2.939697],\n",
       " [3.031012, -3.620252],\n",
       " [-4.599622, -2.185829],\n",
       " [4.196223, 1.126677],\n",
       " [-2.133863, 3.093686],\n",
       " [4.668892, -2.562705],\n",
       " [-2.793241, -2.149706],\n",
       " [2.884105, 3.043438],\n",
       " [-2.967647, 2.848696],\n",
       " [4.479332, -1.764772],\n",
       " [-4.905566, -2.91107]]"
      ]
     },
     "execution_count": 2,
     "metadata": {},
     "output_type": "execute_result"
    }
   ],
   "source": [
    "dataset = loadDataSet('E:\\\\python\\\\machinelearning\\\\MLDownloads\\\\machinelearninginaction\\\\Ch10\\\\testSet.txt')\n",
    "dataMat = mat(dataset)\n",
    "dataset"
   ]
  },
  {
   "cell_type": "code",
   "execution_count": 3,
   "metadata": {},
   "outputs": [
    {
     "data": {
      "text/plain": [
       "matrix([[ 1.658985,  4.285136],\n",
       "        [-3.453687,  3.424321],\n",
       "        [ 4.838138, -1.151539],\n",
       "        [-5.379713, -3.362104],\n",
       "        [ 0.972564,  2.924086],\n",
       "        [-3.567919,  1.531611],\n",
       "        [ 0.450614, -3.302219],\n",
       "        [-3.487105, -1.724432],\n",
       "        [ 2.668759,  1.594842],\n",
       "        [-3.156485,  3.191137],\n",
       "        [ 3.165506, -3.999838],\n",
       "        [-2.786837, -3.099354],\n",
       "        [ 4.208187,  2.984927],\n",
       "        [-2.123337,  2.943366],\n",
       "        [ 0.704199, -0.479481],\n",
       "        [-0.39237 , -3.963704],\n",
       "        [ 2.831667,  1.574018],\n",
       "        [-0.790153,  3.343144],\n",
       "        [ 2.943496, -3.357075],\n",
       "        [-3.195883, -2.283926],\n",
       "        [ 2.336445,  2.875106],\n",
       "        [-1.786345,  2.554248],\n",
       "        [ 2.190101, -1.90602 ],\n",
       "        [-3.403367, -2.778288],\n",
       "        [ 1.778124,  3.880832],\n",
       "        [-1.688346,  2.230267],\n",
       "        [ 2.592976, -2.054368],\n",
       "        [-4.007257, -3.207066],\n",
       "        [ 2.257734,  3.387564],\n",
       "        [-2.679011,  0.785119],\n",
       "        [ 0.939512, -4.023563],\n",
       "        [-3.674424, -2.261084],\n",
       "        [ 2.046259,  2.735279],\n",
       "        [-3.18947 ,  1.780269],\n",
       "        [ 4.372646, -0.822248],\n",
       "        [-2.579316, -3.497576],\n",
       "        [ 1.889034,  5.1904  ],\n",
       "        [-0.798747,  2.185588],\n",
       "        [ 2.83652 , -2.658556],\n",
       "        [-3.837877, -3.253815],\n",
       "        [ 2.096701,  3.886007],\n",
       "        [-2.709034,  2.923887],\n",
       "        [ 3.367037, -3.184789],\n",
       "        [-2.121479, -4.232586],\n",
       "        [ 2.329546,  3.179764],\n",
       "        [-3.284816,  3.273099],\n",
       "        [ 3.091414, -3.815232],\n",
       "        [-3.762093, -2.432191],\n",
       "        [ 3.542056,  2.778832],\n",
       "        [-1.736822,  4.241041],\n",
       "        [ 2.127073, -2.98368 ],\n",
       "        [-4.323818, -3.938116],\n",
       "        [ 3.792121,  5.135768],\n",
       "        [-4.786473,  3.358547],\n",
       "        [ 2.624081, -3.260715],\n",
       "        [-4.009299, -2.978115],\n",
       "        [ 2.493525,  1.96371 ],\n",
       "        [-2.513661,  2.642162],\n",
       "        [ 1.864375, -3.176309],\n",
       "        [-3.171184, -3.572452],\n",
       "        [ 2.89422 ,  2.489128],\n",
       "        [-2.562539,  2.884438],\n",
       "        [ 3.491078, -3.947487],\n",
       "        [-2.565729, -2.012114],\n",
       "        [ 3.332948,  3.983102],\n",
       "        [-1.616805,  3.573188],\n",
       "        [ 2.280615, -2.559444],\n",
       "        [-2.651229, -3.103198],\n",
       "        [ 2.321395,  3.154987],\n",
       "        [-1.685703,  2.939697],\n",
       "        [ 3.031012, -3.620252],\n",
       "        [-4.599622, -2.185829],\n",
       "        [ 4.196223,  1.126677],\n",
       "        [-2.133863,  3.093686],\n",
       "        [ 4.668892, -2.562705],\n",
       "        [-2.793241, -2.149706],\n",
       "        [ 2.884105,  3.043438],\n",
       "        [-2.967647,  2.848696],\n",
       "        [ 4.479332, -1.764772],\n",
       "        [-4.905566, -2.91107 ]])"
      ]
     },
     "execution_count": 3,
     "metadata": {},
     "output_type": "execute_result"
    }
   ],
   "source": [
    "dataMat"
   ]
  },
  {
   "cell_type": "code",
   "execution_count": 4,
   "metadata": {},
   "outputs": [
    {
     "data": {
      "text/plain": [
       "matrix([[ 1.658985],\n",
       "        [-3.453687],\n",
       "        [ 4.838138],\n",
       "        [-5.379713],\n",
       "        [ 0.972564],\n",
       "        [-3.567919],\n",
       "        [ 0.450614],\n",
       "        [-3.487105],\n",
       "        [ 2.668759],\n",
       "        [-3.156485],\n",
       "        [ 3.165506],\n",
       "        [-2.786837],\n",
       "        [ 4.208187],\n",
       "        [-2.123337],\n",
       "        [ 0.704199],\n",
       "        [-0.39237 ],\n",
       "        [ 2.831667],\n",
       "        [-0.790153],\n",
       "        [ 2.943496],\n",
       "        [-3.195883],\n",
       "        [ 2.336445],\n",
       "        [-1.786345],\n",
       "        [ 2.190101],\n",
       "        [-3.403367],\n",
       "        [ 1.778124],\n",
       "        [-1.688346],\n",
       "        [ 2.592976],\n",
       "        [-4.007257],\n",
       "        [ 2.257734],\n",
       "        [-2.679011],\n",
       "        [ 0.939512],\n",
       "        [-3.674424],\n",
       "        [ 2.046259],\n",
       "        [-3.18947 ],\n",
       "        [ 4.372646],\n",
       "        [-2.579316],\n",
       "        [ 1.889034],\n",
       "        [-0.798747],\n",
       "        [ 2.83652 ],\n",
       "        [-3.837877],\n",
       "        [ 2.096701],\n",
       "        [-2.709034],\n",
       "        [ 3.367037],\n",
       "        [-2.121479],\n",
       "        [ 2.329546],\n",
       "        [-3.284816],\n",
       "        [ 3.091414],\n",
       "        [-3.762093],\n",
       "        [ 3.542056],\n",
       "        [-1.736822],\n",
       "        [ 2.127073],\n",
       "        [-4.323818],\n",
       "        [ 3.792121],\n",
       "        [-4.786473],\n",
       "        [ 2.624081],\n",
       "        [-4.009299],\n",
       "        [ 2.493525],\n",
       "        [-2.513661],\n",
       "        [ 1.864375],\n",
       "        [-3.171184],\n",
       "        [ 2.89422 ],\n",
       "        [-2.562539],\n",
       "        [ 3.491078],\n",
       "        [-2.565729],\n",
       "        [ 3.332948],\n",
       "        [-1.616805],\n",
       "        [ 2.280615],\n",
       "        [-2.651229],\n",
       "        [ 2.321395],\n",
       "        [-1.685703],\n",
       "        [ 3.031012],\n",
       "        [-4.599622],\n",
       "        [ 4.196223],\n",
       "        [-2.133863],\n",
       "        [ 4.668892],\n",
       "        [-2.793241],\n",
       "        [ 2.884105],\n",
       "        [-2.967647],\n",
       "        [ 4.479332],\n",
       "        [-4.905566]])"
      ]
     },
     "execution_count": 4,
     "metadata": {},
     "output_type": "execute_result"
    }
   ],
   "source": [
    "dataMat[:,0]"
   ]
  },
  {
   "cell_type": "code",
   "execution_count": 5,
   "metadata": {},
   "outputs": [
    {
     "data": {
      "text/plain": [
       "matrix([[-5.379713]])"
      ]
     },
     "execution_count": 5,
     "metadata": {},
     "output_type": "execute_result"
    }
   ],
   "source": [
    "min(dataMat[:,0])"
   ]
  },
  {
   "cell_type": "code",
   "execution_count": 6,
   "metadata": {},
   "outputs": [
    {
     "data": {
      "text/plain": [
       "matrix([[4.838138]])"
      ]
     },
     "execution_count": 6,
     "metadata": {},
     "output_type": "execute_result"
    }
   ],
   "source": [
    "max(dataMat[:,0])"
   ]
  },
  {
   "cell_type": "code",
   "execution_count": 7,
   "metadata": {},
   "outputs": [
    {
     "data": {
      "text/plain": [
       "matrix([[-4.232586]])"
      ]
     },
     "execution_count": 7,
     "metadata": {},
     "output_type": "execute_result"
    }
   ],
   "source": [
    "min(dataMat[:,1])"
   ]
  },
  {
   "cell_type": "code",
   "execution_count": 8,
   "metadata": {},
   "outputs": [
    {
     "data": {
      "text/plain": [
       "matrix([[5.1904]])"
      ]
     },
     "execution_count": 8,
     "metadata": {},
     "output_type": "execute_result"
    }
   ],
   "source": [
    "max(dataMat[:,1])"
   ]
  },
  {
   "cell_type": "code",
   "execution_count": 9,
   "metadata": {},
   "outputs": [
    {
     "data": {
      "text/plain": [
       "matrix([[-1.01064841,  2.74311997],\n",
       "        [ 4.6528699 ,  1.28602111]])"
      ]
     },
     "execution_count": 9,
     "metadata": {},
     "output_type": "execute_result"
    }
   ],
   "source": [
    "randCent(dataMat,2)"
   ]
  },
  {
   "cell_type": "code",
   "execution_count": 10,
   "metadata": {},
   "outputs": [
    {
     "data": {
      "text/plain": [
       "5.184632816681332"
      ]
     },
     "execution_count": 10,
     "metadata": {},
     "output_type": "execute_result"
    }
   ],
   "source": [
    "distEclud(dataMat[0],dataMat[1])"
   ]
  },
  {
   "cell_type": "code",
   "execution_count": 11,
   "metadata": {},
   "outputs": [],
   "source": [
    "def kMeans(dataSet, k, distMeas = distEclud, createCent = randCent):#k - the number of clusters\n",
    "\tm = shape(dataSet)[0]\n",
    "\t#the cluster assignment matrix: col0 - the index of the cluster, col1 - the error\n",
    "\t#the error is the distance from the cluster centroid to the current point\n",
    "\tclusterAssment = mat(zeros((m,2)))\n",
    "\tcentroids = createCent(dataSet,k)\n",
    "\tclusterChanged = True #flag for judging to iterate or not\n",
    "\twhile clusterChanged:\n",
    "\t\tclusterChanged = False\n",
    "\t\tfor i in range(m):\n",
    "\t\t\tminDist = inf \n",
    "\t\t\tminIndex = -1\n",
    "\t\t\tfor j in range(k):#this loop is to find the closest centroid\n",
    "\t\t\t\tdistJI = distMeas(centroids[j,:],dataSet[i,:])\n",
    "\t\t\t\tif distJI < minDist:\n",
    "\t\t\t\t\tminDist = distJI\n",
    "\t\t\t\t\tminIndex = j\n",
    "\t\t\tif clusterAssment[i,0] != minIndex:\n",
    "\t\t\t\tclusterChanged = True\n",
    "\t\t\tclusterAssment[i,:] = minIndex, minDist ** 2\n",
    "\t\tprint(\"centroids:\",centroids)\n",
    "\t\tfor cent in range(k):#this loop is for updating the centroids\n",
    "\t\t\tptsInClust = dataSet[nonzero(clusterAssment[:,0].A == cent)[0]]\n",
    "\t\t\tcentroids[cent,:] = mean(ptsInClust,axis = 0)\n",
    "\treturn centroids, clusterAssment"
   ]
  },
  {
   "cell_type": "code",
   "execution_count": 12,
   "metadata": {},
   "outputs": [
    {
     "name": "stdout",
     "output_type": "stream",
     "text": [
      "centroids: [[-2.45158791 -3.80899775]\n",
      " [-1.1068861  -1.19253901]\n",
      " [-1.82615688 -2.65796877]\n",
      " [-0.19058844 -3.61463685]]\n",
      "centroids: [[-3.68133264 -3.18226857]\n",
      " [ 0.09765693  2.86443007]\n",
      " [-3.1432764  -2.0862524 ]\n",
      " [ 2.7481024  -2.90572575]]\n",
      "centroids: [[-3.67512031 -3.23996685]\n",
      " [ 0.14460654  3.09399208]\n",
      " [-3.21567563 -1.31834038]\n",
      " [ 2.72102136 -2.61215086]]\n",
      "centroids: [[-3.47534069 -3.17353425]\n",
      " [ 0.38075386  3.12396831]\n",
      " [-3.28310388 -0.089329  ]\n",
      " [ 2.8692781  -2.54779119]]\n",
      "centroids: [[-3.38237045 -2.9473363 ]\n",
      " [ 1.08316259  3.13915824]\n",
      " [-3.2308203   2.5758848 ]\n",
      " [ 2.8692781  -2.54779119]]\n",
      "centroids: [[-3.38237045 -2.9473363 ]\n",
      " [ 2.31553173  3.07737886]\n",
      " [-2.64677572  2.78993217]\n",
      " [ 2.80293085 -2.7315146 ]]\n",
      "centroids: [[-3.38237045 -2.9473363 ]\n",
      " [ 2.6265299   3.10868015]\n",
      " [-2.46154315  2.78737555]\n",
      " [ 2.80293085 -2.7315146 ]]\n"
     ]
    }
   ],
   "source": [
    "myCentroids,clusterAssing = kMeans(dataMat,4)"
   ]
  },
  {
   "cell_type": "code",
   "execution_count": 13,
   "metadata": {},
   "outputs": [
    {
     "data": {
      "text/plain": [
       "matrix([[-3.38237045, -2.9473363 ],\n",
       "        [ 2.6265299 ,  3.10868015],\n",
       "        [-2.46154315,  2.78737555],\n",
       "        [ 2.80293085, -2.7315146 ]])"
      ]
     },
     "execution_count": 13,
     "metadata": {},
     "output_type": "execute_result"
    }
   ],
   "source": [
    "myCentroids"
   ]
  },
  {
   "cell_type": "code",
   "execution_count": 14,
   "metadata": {},
   "outputs": [
    {
     "data": {
      "text/plain": [
       "matrix([[1.00000000e+00, 2.32019150e+00],\n",
       "        [2.00000000e+00, 1.39004893e+00],\n",
       "        [3.00000000e+00, 6.63839104e+00],\n",
       "        [0.00000000e+00, 4.16140951e+00],\n",
       "        [1.00000000e+00, 2.76967820e+00],\n",
       "        [2.00000000e+00, 2.80101213e+00],\n",
       "        [3.00000000e+00, 5.85909807e+00],\n",
       "        [0.00000000e+00, 1.50646425e+00],\n",
       "        [1.00000000e+00, 2.29348924e+00],\n",
       "        [2.00000000e+00, 6.45967483e-01],\n",
       "        [3.00000000e+00, 1.74010499e+00],\n",
       "        [0.00000000e+00, 3.77769471e-01],\n",
       "        [1.00000000e+00, 2.51695402e+00],\n",
       "        [2.00000000e+00, 1.38716420e-01],\n",
       "        [3.00000000e+00, 9.47633071e+00],\n",
       "        [0.00000000e+00, 9.97310599e+00],\n",
       "        [1.00000000e+00, 2.39726914e+00],\n",
       "        [2.00000000e+00, 3.10242360e+00],\n",
       "        [3.00000000e+00, 4.11084375e-01],\n",
       "        [0.00000000e+00, 4.74890795e-01],\n",
       "        [1.00000000e+00, 1.38706133e-01],\n",
       "        [2.00000000e+00, 5.10240996e-01],\n",
       "        [3.00000000e+00, 1.05700176e+00],\n",
       "        [0.00000000e+00, 2.90181828e-02],\n",
       "        [1.00000000e+00, 1.31601105e+00],\n",
       "        [2.00000000e+00, 9.08203769e-01],\n",
       "        [3.00000000e+00, 5.02608557e-01],\n",
       "        [0.00000000e+00, 4.57942717e-01],\n",
       "        [1.00000000e+00, 2.13786618e-01],\n",
       "        [2.00000000e+00, 4.05632356e+00],\n",
       "        [3.00000000e+00, 5.14171888e+00],\n",
       "        [0.00000000e+00, 5.56237495e-01],\n",
       "        [1.00000000e+00, 4.76142736e-01],\n",
       "        [2.00000000e+00, 1.54414110e+00],\n",
       "        [3.00000000e+00, 6.10930460e+00],\n",
       "        [0.00000000e+00, 9.47660177e-01],\n",
       "        [1.00000000e+00, 4.87745774e+00],\n",
       "        [2.00000000e+00, 3.12703929e+00],\n",
       "        [3.00000000e+00, 6.45118831e-03],\n",
       "        [0.00000000e+00, 3.01415411e-01],\n",
       "        [1.00000000e+00, 8.84955695e-01],\n",
       "        [2.00000000e+00, 7.98870968e-02],\n",
       "        [3.00000000e+00, 5.23673430e-01],\n",
       "        [0.00000000e+00, 3.24171404e+00],\n",
       "        [1.00000000e+00, 9.32523506e-02],\n",
       "        [2.00000000e+00, 9.13705455e-01],\n",
       "        [3.00000000e+00, 1.25766593e+00],\n",
       "        [0.00000000e+00, 4.09563895e-01],\n",
       "        [1.00000000e+00, 9.46987842e-01],\n",
       "        [2.00000000e+00, 2.63836399e+00],\n",
       "        [3.00000000e+00, 5.20371222e-01],\n",
       "        [0.00000000e+00, 1.86796790e+00],\n",
       "        [1.00000000e+00, 5.46768776e+00],\n",
       "        [2.00000000e+00, 5.73153563e+00],\n",
       "        [3.00000000e+00, 3.12040332e-01],\n",
       "        [0.00000000e+00, 3.93986735e-01],\n",
       "        [1.00000000e+00, 1.32864695e+00],\n",
       "        [2.00000000e+00, 2.38032454e-02],\n",
       "        [3.00000000e+00, 1.07872914e+00],\n",
       "        [0.00000000e+00, 4.35369355e-01],\n",
       "        [1.00000000e+00, 4.55502856e-01],\n",
       "        [2.00000000e+00, 1.96212809e-02],\n",
       "        [3.00000000e+00, 1.95213538e+00],\n",
       "        [0.00000000e+00, 1.54154401e+00],\n",
       "        [1.00000000e+00, 1.26364010e+00],\n",
       "        [2.00000000e+00, 1.33108375e+00],\n",
       "        [3.00000000e+00, 3.02422139e-01],\n",
       "        [0.00000000e+00, 5.58860689e-01],\n",
       "        [1.00000000e+00, 9.52516316e-02],\n",
       "        [2.00000000e+00, 6.25129762e-01],\n",
       "        [3.00000000e+00, 8.41875177e-01],\n",
       "        [0.00000000e+00, 2.06159470e+00],\n",
       "        [1.00000000e+00, 6.39227291e+00],\n",
       "        [2.00000000e+00, 2.01200372e-01],\n",
       "        [3.00000000e+00, 3.51030769e+00],\n",
       "        [0.00000000e+00, 9.83287604e-01],\n",
       "        [1.00000000e+00, 7.06014703e-02],\n",
       "        [2.00000000e+00, 2.59901305e-01],\n",
       "        [3.00000000e+00, 3.74491207e+00],\n",
       "        [0.00000000e+00, 2.32143993e+00]])"
      ]
     },
     "execution_count": 14,
     "metadata": {},
     "output_type": "execute_result"
    }
   ],
   "source": [
    "clusterAssing"
   ]
  },
  {
   "cell_type": "code",
   "execution_count": 15,
   "metadata": {},
   "outputs": [
    {
     "name": "stdout",
     "output_type": "stream",
     "text": [
      "centroids: [[-4.74700219 -1.50606929]\n",
      " [ 4.76025781  4.49687523]\n",
      " [-3.88954291  3.20683698]]\n",
      "centroids: [[-1.43308103 -3.01692045]\n",
      " [ 2.94370062  1.45245238]\n",
      " [-2.46154315  2.78737555]]\n",
      "centroids: [[-1.34318171 -3.12879161]\n",
      " [ 2.84760134  1.57203879]\n",
      " [-2.46154315  2.78737555]]\n",
      "centroids: [[-1.07379018 -3.11623894]\n",
      " [ 2.82877341  1.9049063 ]\n",
      " [-2.46154315  2.78737555]]\n",
      "centroids: [[-0.83188333 -2.97988206]\n",
      " [ 2.95373358  2.32801413]\n",
      " [-2.46154315  2.78737555]]\n"
     ]
    }
   ],
   "source": [
    "myCentroids,clusterAssing = kMeans(dataMat,3)"
   ]
  },
  {
   "cell_type": "code",
   "execution_count": 16,
   "metadata": {},
   "outputs": [],
   "source": [
    "import matplotlib\n",
    "import matplotlib.pyplot as plt\n",
    "\n",
    "def pltDraw(dataMat,alg = kMeans, numClust = 4):\n",
    "    centTroids, clusterAssing = alg(dataMat,numClust)\n",
    "    fig = plt.figure()\n",
    "    rect=[0.1,0.1,0.8,0.8]\n",
    "    scatterMarkers = ['s', 'o', '^', '8', 'p', 'd', 'v', 'h', '>', '<']\n",
    "    axprops = dict(xticks = [], yticks = [])\n",
    "    ax0=fig.add_axes(rect, label='ax0', **axprops)\n",
    "    ax1=fig.add_axes(rect, label='ax1', frameon=False)\n",
    "    for i in range(numClust):\n",
    "        ptsInCurrCluster = dataMat[nonzero(clusterAssing[:,0].A==i)[0],:]\n",
    "        markerStyle = scatterMarkers[i % len(scatterMarkers)]\n",
    "        ax1.scatter(ptsInCurrCluster[:,0].flatten().A[0], ptsInCurrCluster[:,1].flatten().A[0], marker=markerStyle, s=90)\n",
    "    ax1.scatter(centTroids[:,0].flatten().A[0], centTroids[:,1].flatten().A[0], marker='+', s=300)\n",
    "    plt.show()"
   ]
  },
  {
   "cell_type": "code",
   "execution_count": 17,
   "metadata": {},
   "outputs": [
    {
     "name": "stdout",
     "output_type": "stream",
     "text": [
      "centroids: [[ 1.24578705  2.25669455]\n",
      " [-1.34635404 -3.10773191]\n",
      " [ 2.61574821 -0.727127  ]\n",
      " [-3.55242876  2.32138265]]\n",
      "centroids: [[ 2.225975    3.17026943]\n",
      " [-3.01169468 -3.01238673]\n",
      " [ 3.09814284 -2.43041226]\n",
      " [-2.64677572  2.78993217]]\n",
      "centroids: [[ 2.6265299   3.10868015]\n",
      " [-3.38237045 -2.9473363 ]\n",
      " [ 2.80293085 -2.7315146 ]\n",
      " [-2.46154315  2.78737555]]\n"
     ]
    },
    {
     "data": {
      "image/png": "[encoded data removed]",
      "text/plain": [
       "<Figure size 432x288 with 2 Axes>"
      ]
     },
     "metadata": {},
     "output_type": "display_data"
    }
   ],
   "source": [
    "pltDraw(dataMat)"
   ]
  },
  {
   "cell_type": "markdown",
   "metadata": {},
   "source": [
    "### 二分 K-均值算法"
   ]
  },
  {
   "cell_type": "code",
   "execution_count": 18,
   "metadata": {},
   "outputs": [],
   "source": [
    "#bisecting k-means clustering algorithm\n",
    "def biKmeans(dataSet, k, distMeas = distEclud):\n",
    "\tm = shape(dataSet)[0]\n",
    "\tclusterAssment = mat(zeros((m,2)))#store squared error for each point in the dataset\n",
    "\tcentroid0 = mean(dataSet,axis = 0).tolist()[0]#centroid for the entire dataset\n",
    "\tcentList = [centroid0]#the list to save all the centroids above\n",
    "\t#calculate the error bw that point and the centroid, go over all the points in the dataset\n",
    "\tfor j in range(m):\n",
    "\t\tclusterAssment[j,1] = distMeas(mat(centroid0),dataSet[j,:]) ** 2\n",
    "\t#split the clusters until find the desired number of the clusters\n",
    "\twhile (len(centList) < k):\n",
    "\t\tlowestSSE = inf #initialization\n",
    "\t\tfor i in range(len(centList)):\n",
    "\t\t\t#ptsInCurrCluster:get the points in current cluster i\n",
    "\t\t\tptsInCurrCluster = dataSet[nonzero(clusterAssment[:,0].A == i)[0],:]\n",
    "\t\t\tcentroidMat, splitClustAss = kMeans(ptsInCurrCluster, 2, distMeas)#get the centroids and the squared errors\n",
    "\t\t\tsseSplit = sum(splitClustAss[:,1])# sum of errors\n",
    "\t\t\tsseNotSplit = sum(clusterAssment[nonzero(clusterAssment[:,0].A != i)[0],1])\n",
    "\t\t\tprint(\"sseSplit, and notSplit:\",sseSplit, sseNotSplit)\n",
    "\t\t\tif(sseSplit + sseNotSplit) < lowestSSE:\n",
    "\t\t\t\tbestCentToSplit = i\n",
    "\t\t\t\tbestNewCents = centroidMat\n",
    "\t\t\t\tbestClustAss = splitClustAss.copy()\n",
    "\t\t\t\tlowestSSE = sseSplit + sseNotSplit\n",
    "\t\t#update the cluster assignments\n",
    "\t\tbestClustAss[nonzero(bestClustAss[:,0].A == 1)[0],0] = len(centList)\n",
    "\t\tbestClustAss[nonzero(bestClustAss[:,1].A == 0)[0],0] = bestCentToSplit\n",
    "\t\tprint(\"the bestCentToSplit is: \", bestCentToSplit)\n",
    "\t\tprint(\"the len of bestClustAss is: \",len(bestClustAss))\n",
    "\t\tcentList[bestCentToSplit] = bestNewCents[0,:].tolist()[0]\n",
    "\t\tcentList.append(bestNewCents[1,:].tolist()[0])\n",
    "\t\tclusterAssment[nonzero(clusterAssment[:,0].A == bestCentToSplit)[0],:] = bestClustAss\n",
    "\treturn mat(centList), clusterAssment\n",
    "\n"
   ]
  },
  {
   "cell_type": "code",
   "execution_count": 19,
   "metadata": {},
   "outputs": [],
   "source": [
    "dataMat3 = mat(loadDataSet('E:\\\\python\\\\machinelearning\\\\MLDownloads\\\\machinelearninginaction\\\\Ch10\\\\testSet2.txt'))"
   ]
  },
  {
   "cell_type": "code",
   "execution_count": 20,
   "metadata": {},
   "outputs": [
    {
     "data": {
      "text/plain": [
       "matrix([[ 3.275154,  2.957587],\n",
       "        [-3.344465,  2.603513],\n",
       "        [ 0.355083, -3.376585],\n",
       "        [ 1.852435,  3.547351],\n",
       "        [-2.078973,  2.552013],\n",
       "        [-0.993756, -0.884433],\n",
       "        [ 2.682252,  4.007573],\n",
       "        [-3.087776,  2.878713],\n",
       "        [-1.565978, -1.256985],\n",
       "        [ 2.441611,  0.444826],\n",
       "        [-0.659487,  3.111284],\n",
       "        [-0.459601, -2.618005],\n",
       "        [ 2.17768 ,  2.387793],\n",
       "        [-2.920969,  2.917485],\n",
       "        [-0.028814, -4.168078],\n",
       "        [ 3.625746,  2.119041],\n",
       "        [-3.912363,  1.325108],\n",
       "        [-0.551694, -2.814223],\n",
       "        [ 2.855808,  3.483301],\n",
       "        [-3.594448,  2.856651],\n",
       "        [ 0.421993, -2.372646],\n",
       "        [ 1.650821,  3.407572],\n",
       "        [-2.082902,  3.384412],\n",
       "        [-0.718809, -2.492514],\n",
       "        [ 4.513623,  3.841029],\n",
       "        [-4.822011,  4.607049],\n",
       "        [-0.656297, -1.449872],\n",
       "        [ 1.919901,  4.439368],\n",
       "        [-3.287749,  3.918836],\n",
       "        [-1.576936, -2.977622],\n",
       "        [ 3.598143,  1.97597 ],\n",
       "        [-3.977329,  4.900932],\n",
       "        [-1.79108 , -2.184517],\n",
       "        [ 3.914654,  3.559303],\n",
       "        [-1.910108,  4.166946],\n",
       "        [-1.226597, -3.317889],\n",
       "        [ 1.148946,  3.345138],\n",
       "        [-2.113864,  3.548172],\n",
       "        [ 0.845762, -3.589788],\n",
       "        [ 2.629062,  3.535831],\n",
       "        [-1.640717,  2.990517],\n",
       "        [-1.881012, -2.485405],\n",
       "        [ 4.606999,  3.510312],\n",
       "        [-4.366462,  4.023316],\n",
       "        [ 0.765015, -3.00127 ],\n",
       "        [ 3.121904,  2.173988],\n",
       "        [-4.025139,  4.65231 ],\n",
       "        [-0.559558, -3.840539],\n",
       "        [ 4.376754,  4.863579],\n",
       "        [-1.874308,  4.032237],\n",
       "        [-0.089337, -3.026809],\n",
       "        [ 3.997787,  2.518662],\n",
       "        [-3.082978,  2.884822],\n",
       "        [ 0.845235, -3.454465],\n",
       "        [ 1.327224,  3.358778],\n",
       "        [-2.889949,  3.596178],\n",
       "        [-0.966018, -2.839827],\n",
       "        [ 2.960769,  3.079555],\n",
       "        [-3.275518,  1.577068],\n",
       "        [ 0.639276, -3.41284 ]])"
      ]
     },
     "execution_count": 20,
     "metadata": {},
     "output_type": "execute_result"
    }
   ],
   "source": [
    "dataMat3"
   ]
  },
  {
   "cell_type": "code",
   "execution_count": 21,
   "metadata": {},
   "outputs": [
    {
     "name": "stdout",
     "output_type": "stream",
     "text": [
      "centroids: [[3.07746098 2.19869805]\n",
      " [0.16510569 3.50343313]]\n",
      "centroids: [[ 1.9349073   0.23298474]\n",
      " [-1.86987461  2.03724906]]\n",
      "centroids: [[ 1.547666    0.38343292]\n",
      " [-2.71580587  2.48817592]]\n",
      "centroids: [[ 1.23710375  0.17480612]\n",
      " [-2.94737575  3.3263781 ]]\n",
      "sseSplit, and notSplit: 570.7227574246755 0.0\n",
      "the bestCentToSplit is:  0\n",
      "the len of bestClustAss is:  60\n",
      "centroids: [[1.49048279 0.83960311]\n",
      " [1.21100434 4.54434066]]\n",
      "centroids: [[ 0.37575954 -1.69015508]\n",
      " [ 2.836743    3.6383055 ]]\n",
      "centroids: [[-0.32150057 -2.62473743]\n",
      " [ 2.95977168  3.26903847]]\n",
      "centroids: [[-0.45965615 -2.7782156 ]\n",
      " [ 2.93386365  3.12782785]]\n",
      "sseSplit, and notSplit: 68.68654812621844 38.06295063565756\n",
      "centroids: [[-4.37191475  2.47170449]\n",
      " [-1.72943997  4.69753219]]\n",
      "centroids: [[-3.6432129  3.0326035]\n",
      " [-2.2515386  3.6201527]]\n",
      "centroids: [[-3.64143392  3.26215025]\n",
      " [-1.9062885   3.42271988]]\n",
      "centroids: [[-3.58362738  3.28784469]\n",
      " [-1.76576557  3.39794014]]\n",
      "sseSplit, and notSplit: 22.971771896318412 532.6598067890178\n",
      "the bestCentToSplit is:  0\n",
      "the len of bestClustAss is:  40\n"
     ]
    }
   ],
   "source": [
    "centList,myNewAssments = biKmeans(dataMat3,3)"
   ]
  },
  {
   "cell_type": "code",
   "execution_count": 22,
   "metadata": {},
   "outputs": [
    {
     "name": "stdout",
     "output_type": "stream",
     "text": [
      "centroids: [[ 0.48327368 -1.44987856]\n",
      " [ 1.93322915  2.11243781]]\n",
      "centroids: [[-0.74459109 -2.39373345]\n",
      " [ 0.18204313  3.32057745]]\n",
      "centroids: [[-0.45965615 -2.7782156 ]\n",
      " [-0.00675605  3.22710297]]\n",
      "sseSplit, and notSplit: 453.0334895807502 0.0\n",
      "the bestCentToSplit is:  0\n",
      "the len of bestClustAss is:  60\n",
      "centroids: [[-0.11936532 -2.66482548]\n",
      " [-1.2998874  -3.70006036]]\n",
      "centroids: [[-0.15208043 -2.61359014]\n",
      " [-1.17733283 -3.16234167]]\n",
      "centroids: [[ 0.0335725  -2.7077875 ]\n",
      " [-1.19949912 -2.88385775]]\n",
      "centroids: [[ 0.18969282 -3.025871  ]\n",
      " [-1.25330489 -2.47552567]]\n",
      "centroids: [[ 0.19848727 -3.24320436]\n",
      " [-1.26405367 -2.209896  ]]\n",
      "centroids: [[ 0.2642961 -3.3057243]\n",
      " [-1.1836084 -2.2507069]]\n",
      "centroids: [[ 0.35496167 -3.36033556]\n",
      " [-1.12616164 -2.30193564]]\n",
      "sseSplit, and notSplit: 12.753263136887313 423.8762401366249\n",
      "centroids: [[-1.95286322  1.58813537]\n",
      " [ 1.93934666  3.86057815]]\n",
      "centroids: [[-2.94737575  3.3263781 ]\n",
      " [ 2.93386365  3.12782785]]\n",
      "sseSplit, and notSplit: 77.59224931775066 29.15724944412535\n",
      "the bestCentToSplit is:  1\n",
      "the len of bestClustAss is:  40\n"
     ]
    },
    {
     "data": {
      "image/png": "[encoded data removed]",
      "text/plain": [
       "<Figure size 432x288 with 2 Axes>"
      ]
     },
     "metadata": {},
     "output_type": "display_data"
    }
   ],
   "source": [
    "pltDraw(dataMat3,alg=biKmeans,numClust=3)"
   ]
  },
  {
   "cell_type": "markdown",
   "metadata": {},
   "source": [
    "### 示例：对地图上的点进行聚类"
   ]
  },
  {
   "cell_type": "code",
   "execution_count": 23,
   "metadata": {},
   "outputs": [],
   "source": [
    "import urllib.request\n",
    "import json\n",
    "#get a dict from yahoo\n",
    "def geoGrab(stAddress, city):\n",
    "\tapiStem = 'http://where.yahooapis.com/geocode?'\n",
    "\tparams = {}#dict to save data\n",
    "\tparams['flags'] = 'J'#JSON format\n",
    "\tparams['appid'] = 'aaa0VN6k'\n",
    "\tparams['location'] = '%s %s ' % (stAddress, city)\n",
    "\turl_params = urllib.parse.urlencode(params)#convert params dict to string which can pass on in a URL\n",
    "\tyahooApi = apiStem + url_params\n",
    "\tprint(\"yahooApi: \",yahooApi)#print\n",
    "\tc = urllib.request.urlopen(yahooApi)#open URL and read the returned value\n",
    "\treturn json.loads(c.read())#convert JSON format to a dict\n",
    "\n",
    "from time import sleep\n",
    "def massPlaceFind(filename):\n",
    "\tfw = open('E:\\\\python\\\\machinelearning\\\\MLDownloads\\\\machinelearninginaction\\\\Ch10\\\\places.txt')\n",
    "\tfor line in open(filename).readlines():\n",
    "\t\tline = line.strip()\n",
    "\t\tlineArr = line.split('\\t')#tab-delimited text file\n",
    "\t\tretDict = geoGrab(lineArr[1],lineArr[2])#fed data of col1 and col2 to geoGrab()\n",
    "\t\tif retDict['ResultSet']['Error'] == 0:#check error\n",
    "\t\t\tlat = float(retDict['ResultSet']['Results'][0]['latitude'])\n",
    "\t\t\tlng = float(retDict['ResultSet']['Results'][0]['longitude'])\n",
    "\t\t\tprint(\"%s\\t%f\\t%f\" % (lineArr[0], lat, lng))\n",
    "\t\t\tfw.write('%s\\t%f\\t%f\\n' % (line,lat,lng))\n",
    "\t\telse:\n",
    "\t\t\tprint(\"error fetching\")\n",
    "\t\tsleep(1)#delay one second\n",
    "\tfw.close()"
   ]
  },
  {
   "cell_type": "code",
   "execution_count": 24,
   "metadata": {},
   "outputs": [],
   "source": [
    "#geoResults = geoGrab('1 VA Center', 'Augusta, ME') "
   ]
  },
  {
   "cell_type": "code",
   "execution_count": 25,
   "metadata": {},
   "outputs": [],
   "source": [
    "#massPlaceFind('E:\\\\python\\\\machinelearning\\\\MLDownloads\\\\machinelearninginaction\\\\Ch10\\\\portlandClubs.txt')"
   ]
  },
  {
   "cell_type": "code",
   "execution_count": 26,
   "metadata": {},
   "outputs": [],
   "source": [
    "def distSLC(vecA, vecB):#spherical law of cosines,pi is from numpy\n",
    "\ta = sin(vecA[0,1] * pi / 180) * sin(vecB[0,1] * pi / 180)\n",
    "\tb = cos(vecA[0,1] * pi / 180) * cos(vecB[0,1] * pi / 180) * cos(pi * (vecB[0,0] - vecA[0,0]) / 180)\n",
    "\treturn arccos(a + b) * 6371.0\n"
   ]
  },
  {
   "cell_type": "code",
   "execution_count": 27,
   "metadata": {},
   "outputs": [],
   "source": [
    "def clusterClubs(numClust=5):\n",
    "\tdatList = []\n",
    "\tfor line in open('E:\\\\python\\\\machinelearning\\\\MLDownloads\\\\machinelearninginaction\\\\Ch10\\\\places.txt').readlines():\n",
    "\t\tlineArr = line.split('\\t')\n",
    "\t\tdatList.append([float(lineArr[4]), float(lineArr[3])])\n",
    "\tdatMat = mat(datList)\n",
    "\tmyCentroids, clustAssing = biKmeans(datMat, numClust, distMeas=distSLC)\n",
    "\tfig = plt.figure()\n",
    "\trect=[0.1,0.1,0.8,0.8]\n",
    "\tscatterMarkers=['s', 'o', '^', '8', 'p', 'd', 'v', 'h', '>', '<']\n",
    "\taxprops = dict(xticks=[], yticks=[])\n",
    "\tax0=fig.add_axes(rect, label='ax0', **axprops)\n",
    "\timgP = plt.imread('E:\\\\python\\\\machinelearning\\\\MLDownloads\\\\machinelearninginaction\\\\Ch10\\\\Portland.png')\n",
    "\tax0.imshow(imgP)\n",
    "\tax1=fig.add_axes(rect, label='ax1', frameon=False)\n",
    "\tfor i in range(numClust):\n",
    "\t\tptsInCurrCluster = datMat[nonzero(clustAssing[:,0].A==i)[0],:]\n",
    "\t\tmarkerStyle = scatterMarkers[i % len(scatterMarkers)]\n",
    "\t\tax1.scatter(ptsInCurrCluster[:,0].flatten().A[0],ptsInCurrCluster[:,1].flatten().A[0],marker=markerStyle, s=90)\n",
    "\tax1.scatter(myCentroids[:,0].flatten().A[0],myCentroids[:,1].flatten().A[0], marker='+', s=300)\n",
    "\tplt.show()"
   ]
  },
  {
   "cell_type": "code",
   "execution_count": 29,
   "metadata": {},
   "outputs": [
    {
     "name": "stdout",
     "output_type": "stream",
     "text": [
      "centroids: [[-122.63971092   45.49447346]\n",
      " [-122.44806737   45.42369948]]\n",
      "centroids: [[-122.64309672   45.51365588]\n",
      " [-122.44609275   45.4903825 ]]\n",
      "centroids: [[-122.65934242   45.51461818]\n",
      " [-122.50026167   45.50132717]]\n",
      "centroids: [[-122.67080008   45.51476275]\n",
      " [-122.52082522   45.50534789]]\n",
      "centroids: [[-122.6827712    45.51158464]\n",
      " [-122.53587308   45.51366054]]\n",
      "centroids: [[-122.69340632   45.5070501 ]\n",
      " [-122.54653121   45.51955717]]\n",
      "centroids: [[-122.69551477   45.50729503]\n",
      " [-122.54868607   45.51882187]]\n",
      "sseSplit, and notSplit: 3043.2633161055337 0.0\n",
      "the bestCentToSplit is:  0\n",
      "the len of bestClustAss is:  69\n",
      "centroids: [[-122.75362272   45.63864786]\n",
      " [-122.72823754   45.53612237]]\n",
      "centroids: [[-122.76690133   45.612314  ]\n",
      " [-122.68956589   45.49854344]]\n",
      "centroids: [[-122.72070683   45.59796783]\n",
      " [-122.69093439   45.49080906]]\n",
      "centroids: [[-122.72072414   45.59011757]\n",
      " [-122.69000022   45.48917759]]\n",
      "sseSplit, and notSplit: 1435.437848696069 851.4388885817106\n",
      "centroids: [[-122.43529742   45.48162529]\n",
      " [-122.5616883    45.4679518 ]]\n",
      "centroids: [[-122.4568086    45.4961344 ]\n",
      " [-122.56706156   45.52335936]]\n",
      "sseSplit, and notSplit: 505.61960820164956 2191.824427523823\n",
      "the bestCentToSplit is:  0\n",
      "the len of bestClustAss is:  39\n",
      "centroids: [[-122.66891352   45.5769073 ]\n",
      " [-122.77434633   45.61126783]]\n",
      "centroids: [[-122.68609125   45.57347025]\n",
      " [-122.76690133   45.612314  ]]\n",
      "sseSplit, and notSplit: 100.23289519620494 2086.9191905495936\n",
      "centroids: [[-122.4062695    45.54299235]\n",
      " [-122.42164789   45.48268082]]\n",
      "centroids: [[-122.5848452   45.5546092]\n",
      " [-122.5306065   45.5009282]]\n",
      "sseSplit, and notSplit: 494.98425046819165 1435.437848696069\n",
      "centroids: [[-122.65413682   45.41509527]\n",
      " [-122.78185986   45.3995023 ]]\n",
      "centroids: [[-122.65451705   45.49946159]\n",
      " [-122.7680632    45.4665528 ]]\n",
      "sseSplit, and notSplit: 604.7277396520087 1051.3964353098966\n",
      "the bestCentToSplit is:  2\n",
      "the len of bestClustAss is:  32\n",
      "centroids: [[-122.77897213   45.45128642]\n",
      " [-122.77796167   45.56227069]]\n",
      "centroids: [[-122.6447481    45.469507  ]\n",
      " [-122.68405068   45.54862674]]\n",
      "sseSplit, and notSplit: 708.6989337145973 1059.7027707332975\n",
      "centroids: [[-122.4728251    45.48129177]\n",
      " [-122.48584923   45.50261348]]\n",
      "centroids: [[-122.4009285    45.46897   ]\n",
      " [-122.55924018   45.52238271]]\n",
      "sseSplit, and notSplit: 501.3287882204044 804.6852863801945\n"
     ]
    },
    {
     "ename": "ValueError",
     "evalue": "min() arg is an empty sequence",
     "output_type": "error",
     "traceback": [
      "\u001b[1;31m---------------------------------------------------------------------------\u001b[0m",
      "\u001b[1;31mValueError\u001b[0m                                Traceback (most recent call last)",
      "\u001b[1;32m<ipython-input-29-77d6d244bfd5>\u001b[0m in \u001b[0;36m<module>\u001b[1;34m()\u001b[0m\n\u001b[1;32m----> 1\u001b[1;33m \u001b[0mclusterClubs\u001b[0m\u001b[1;33m(\u001b[0m\u001b[1;36m5\u001b[0m\u001b[1;33m)\u001b[0m\u001b[1;33m\u001b[0m\u001b[0m\n\u001b[0m",
      "\u001b[1;32m<ipython-input-27-1e22165da3f9>\u001b[0m in \u001b[0;36mclusterClubs\u001b[1;34m(numClust)\u001b[0m\n\u001b[0;32m      5\u001b[0m                 \u001b[0mdatList\u001b[0m\u001b[1;33m.\u001b[0m\u001b[0mappend\u001b[0m\u001b[1;33m(\u001b[0m\u001b[1;33m[\u001b[0m\u001b[0mfloat\u001b[0m\u001b[1;33m(\u001b[0m\u001b[0mlineArr\u001b[0m\u001b[1;33m[\u001b[0m\u001b[1;36m4\u001b[0m\u001b[1;33m]\u001b[0m\u001b[1;33m)\u001b[0m\u001b[1;33m,\u001b[0m \u001b[0mfloat\u001b[0m\u001b[1;33m(\u001b[0m\u001b[0mlineArr\u001b[0m\u001b[1;33m[\u001b[0m\u001b[1;36m3\u001b[0m\u001b[1;33m]\u001b[0m\u001b[1;33m)\u001b[0m\u001b[1;33m]\u001b[0m\u001b[1;33m)\u001b[0m\u001b[1;33m\u001b[0m\u001b[0m\n\u001b[0;32m      6\u001b[0m         \u001b[0mdatMat\u001b[0m \u001b[1;33m=\u001b[0m \u001b[0mmat\u001b[0m\u001b[1;33m(\u001b[0m\u001b[0mdatList\u001b[0m\u001b[1;33m)\u001b[0m\u001b[1;33m\u001b[0m\u001b[0m\n\u001b[1;32m----> 7\u001b[1;33m         \u001b[0mmyCentroids\u001b[0m\u001b[1;33m,\u001b[0m \u001b[0mclustAssing\u001b[0m \u001b[1;33m=\u001b[0m \u001b[0mbiKmeans\u001b[0m\u001b[1;33m(\u001b[0m\u001b[0mdatMat\u001b[0m\u001b[1;33m,\u001b[0m \u001b[0mnumClust\u001b[0m\u001b[1;33m,\u001b[0m \u001b[0mdistMeas\u001b[0m\u001b[1;33m=\u001b[0m\u001b[0mdistSLC\u001b[0m\u001b[1;33m)\u001b[0m\u001b[1;33m\u001b[0m\u001b[0m\n\u001b[0m\u001b[0;32m      8\u001b[0m         \u001b[0mfig\u001b[0m \u001b[1;33m=\u001b[0m \u001b[0mplt\u001b[0m\u001b[1;33m.\u001b[0m\u001b[0mfigure\u001b[0m\u001b[1;33m(\u001b[0m\u001b[1;33m)\u001b[0m\u001b[1;33m\u001b[0m\u001b[0m\n\u001b[0;32m      9\u001b[0m         \u001b[0mrect\u001b[0m\u001b[1;33m=\u001b[0m\u001b[1;33m[\u001b[0m\u001b[1;36m0.1\u001b[0m\u001b[1;33m,\u001b[0m\u001b[1;36m0.1\u001b[0m\u001b[1;33m,\u001b[0m\u001b[1;36m0.8\u001b[0m\u001b[1;33m,\u001b[0m\u001b[1;36m0.8\u001b[0m\u001b[1;33m]\u001b[0m\u001b[1;33m\u001b[0m\u001b[0m\n",
      "\u001b[1;32m<ipython-input-18-d307f884043f>\u001b[0m in \u001b[0;36mbiKmeans\u001b[1;34m(dataSet, k, distMeas)\u001b[0m\n\u001b[0;32m     14\u001b[0m                         \u001b[1;31m#ptsInCurrCluster:get the points in current cluster i\u001b[0m\u001b[1;33m\u001b[0m\u001b[1;33m\u001b[0m\u001b[0m\n\u001b[0;32m     15\u001b[0m                         \u001b[0mptsInCurrCluster\u001b[0m \u001b[1;33m=\u001b[0m \u001b[0mdataSet\u001b[0m\u001b[1;33m[\u001b[0m\u001b[0mnonzero\u001b[0m\u001b[1;33m(\u001b[0m\u001b[0mclusterAssment\u001b[0m\u001b[1;33m[\u001b[0m\u001b[1;33m:\u001b[0m\u001b[1;33m,\u001b[0m\u001b[1;36m0\u001b[0m\u001b[1;33m]\u001b[0m\u001b[1;33m.\u001b[0m\u001b[0mA\u001b[0m \u001b[1;33m==\u001b[0m \u001b[0mi\u001b[0m\u001b[1;33m)\u001b[0m\u001b[1;33m[\u001b[0m\u001b[1;36m0\u001b[0m\u001b[1;33m]\u001b[0m\u001b[1;33m,\u001b[0m\u001b[1;33m:\u001b[0m\u001b[1;33m]\u001b[0m\u001b[1;33m\u001b[0m\u001b[0m\n\u001b[1;32m---> 16\u001b[1;33m                         \u001b[0mcentroidMat\u001b[0m\u001b[1;33m,\u001b[0m \u001b[0msplitClustAss\u001b[0m \u001b[1;33m=\u001b[0m \u001b[0mkMeans\u001b[0m\u001b[1;33m(\u001b[0m\u001b[0mptsInCurrCluster\u001b[0m\u001b[1;33m,\u001b[0m \u001b[1;36m2\u001b[0m\u001b[1;33m,\u001b[0m \u001b[0mdistMeas\u001b[0m\u001b[1;33m)\u001b[0m\u001b[1;31m#get the centroids and the squared errors\u001b[0m\u001b[1;33m\u001b[0m\u001b[0m\n\u001b[0m\u001b[0;32m     17\u001b[0m                         \u001b[0msseSplit\u001b[0m \u001b[1;33m=\u001b[0m \u001b[0msum\u001b[0m\u001b[1;33m(\u001b[0m\u001b[0msplitClustAss\u001b[0m\u001b[1;33m[\u001b[0m\u001b[1;33m:\u001b[0m\u001b[1;33m,\u001b[0m\u001b[1;36m1\u001b[0m\u001b[1;33m]\u001b[0m\u001b[1;33m)\u001b[0m\u001b[1;31m# sum of errors\u001b[0m\u001b[1;33m\u001b[0m\u001b[0m\n\u001b[0;32m     18\u001b[0m                         \u001b[0msseNotSplit\u001b[0m \u001b[1;33m=\u001b[0m \u001b[0msum\u001b[0m\u001b[1;33m(\u001b[0m\u001b[0mclusterAssment\u001b[0m\u001b[1;33m[\u001b[0m\u001b[0mnonzero\u001b[0m\u001b[1;33m(\u001b[0m\u001b[0mclusterAssment\u001b[0m\u001b[1;33m[\u001b[0m\u001b[1;33m:\u001b[0m\u001b[1;33m,\u001b[0m\u001b[1;36m0\u001b[0m\u001b[1;33m]\u001b[0m\u001b[1;33m.\u001b[0m\u001b[0mA\u001b[0m \u001b[1;33m!=\u001b[0m \u001b[0mi\u001b[0m\u001b[1;33m)\u001b[0m\u001b[1;33m[\u001b[0m\u001b[1;36m0\u001b[0m\u001b[1;33m]\u001b[0m\u001b[1;33m,\u001b[0m\u001b[1;36m1\u001b[0m\u001b[1;33m]\u001b[0m\u001b[1;33m)\u001b[0m\u001b[1;33m\u001b[0m\u001b[0m\n",
      "\u001b[1;32m<ipython-input-11-300f16014764>\u001b[0m in \u001b[0;36mkMeans\u001b[1;34m(dataSet, k, distMeas, createCent)\u001b[0m\n\u001b[0;32m      4\u001b[0m         \u001b[1;31m#the error is the distance from the cluster centroid to the current point\u001b[0m\u001b[1;33m\u001b[0m\u001b[1;33m\u001b[0m\u001b[0m\n\u001b[0;32m      5\u001b[0m         \u001b[0mclusterAssment\u001b[0m \u001b[1;33m=\u001b[0m \u001b[0mmat\u001b[0m\u001b[1;33m(\u001b[0m\u001b[0mzeros\u001b[0m\u001b[1;33m(\u001b[0m\u001b[1;33m(\u001b[0m\u001b[0mm\u001b[0m\u001b[1;33m,\u001b[0m\u001b[1;36m2\u001b[0m\u001b[1;33m)\u001b[0m\u001b[1;33m)\u001b[0m\u001b[1;33m)\u001b[0m\u001b[1;33m\u001b[0m\u001b[0m\n\u001b[1;32m----> 6\u001b[1;33m         \u001b[0mcentroids\u001b[0m \u001b[1;33m=\u001b[0m \u001b[0mcreateCent\u001b[0m\u001b[1;33m(\u001b[0m\u001b[0mdataSet\u001b[0m\u001b[1;33m,\u001b[0m\u001b[0mk\u001b[0m\u001b[1;33m)\u001b[0m\u001b[1;33m\u001b[0m\u001b[0m\n\u001b[0m\u001b[0;32m      7\u001b[0m         \u001b[0mclusterChanged\u001b[0m \u001b[1;33m=\u001b[0m \u001b[1;32mTrue\u001b[0m \u001b[1;31m#flag for judging to iterate or not\u001b[0m\u001b[1;33m\u001b[0m\u001b[0m\n\u001b[0;32m      8\u001b[0m         \u001b[1;32mwhile\u001b[0m \u001b[0mclusterChanged\u001b[0m\u001b[1;33m:\u001b[0m\u001b[1;33m\u001b[0m\u001b[0m\n",
      "\u001b[1;32m<ipython-input-1-496ef3ce730b>\u001b[0m in \u001b[0;36mrandCent\u001b[1;34m(dataSet, k)\u001b[0m\n\u001b[0;32m     17\u001b[0m         \u001b[0mcentroids\u001b[0m \u001b[1;33m=\u001b[0m \u001b[0mmat\u001b[0m\u001b[1;33m(\u001b[0m\u001b[0mzeros\u001b[0m\u001b[1;33m(\u001b[0m\u001b[1;33m(\u001b[0m\u001b[0mk\u001b[0m\u001b[1;33m,\u001b[0m \u001b[0mn\u001b[0m\u001b[1;33m)\u001b[0m\u001b[1;33m)\u001b[0m\u001b[1;33m)\u001b[0m\u001b[1;33m\u001b[0m\u001b[0m\n\u001b[0;32m     18\u001b[0m         \u001b[1;32mfor\u001b[0m \u001b[0mj\u001b[0m \u001b[1;32min\u001b[0m \u001b[0mrange\u001b[0m\u001b[1;33m(\u001b[0m\u001b[0mn\u001b[0m\u001b[1;33m)\u001b[0m\u001b[1;33m:\u001b[0m\u001b[1;33m\u001b[0m\u001b[0m\n\u001b[1;32m---> 19\u001b[1;33m                 \u001b[0mminJ\u001b[0m \u001b[1;33m=\u001b[0m \u001b[0mmin\u001b[0m\u001b[1;33m(\u001b[0m\u001b[0mdataSet\u001b[0m\u001b[1;33m[\u001b[0m\u001b[1;33m:\u001b[0m\u001b[1;33m,\u001b[0m\u001b[0mj\u001b[0m\u001b[1;33m]\u001b[0m\u001b[1;33m)\u001b[0m\u001b[1;33m\u001b[0m\u001b[0m\n\u001b[0m\u001b[0;32m     20\u001b[0m                 \u001b[0mrangeJ\u001b[0m \u001b[1;33m=\u001b[0m \u001b[0mfloat\u001b[0m\u001b[1;33m(\u001b[0m\u001b[0mmax\u001b[0m\u001b[1;33m(\u001b[0m\u001b[0mdataSet\u001b[0m\u001b[1;33m[\u001b[0m\u001b[1;33m:\u001b[0m\u001b[1;33m,\u001b[0m\u001b[0mj\u001b[0m\u001b[1;33m]\u001b[0m\u001b[1;33m)\u001b[0m \u001b[1;33m-\u001b[0m \u001b[0mminJ\u001b[0m\u001b[1;33m)\u001b[0m\u001b[1;33m\u001b[0m\u001b[0m\n\u001b[0;32m     21\u001b[0m                 \u001b[0mcentroids\u001b[0m\u001b[1;33m[\u001b[0m\u001b[1;33m:\u001b[0m\u001b[1;33m,\u001b[0m\u001b[0mj\u001b[0m\u001b[1;33m]\u001b[0m \u001b[1;33m=\u001b[0m \u001b[0mminJ\u001b[0m \u001b[1;33m+\u001b[0m \u001b[0mrangeJ\u001b[0m \u001b[1;33m*\u001b[0m \u001b[0mrandom\u001b[0m\u001b[1;33m.\u001b[0m\u001b[0mrand\u001b[0m\u001b[1;33m(\u001b[0m\u001b[0mk\u001b[0m\u001b[1;33m,\u001b[0m\u001b[1;36m1\u001b[0m\u001b[1;33m)\u001b[0m\u001b[1;33m\u001b[0m\u001b[0m\n",
      "\u001b[1;31mValueError\u001b[0m: min() arg is an empty sequence"
     ]
    }
   ],
   "source": [
    "clusterClubs(5)"
   ]
  },
  {
   "cell_type": "code",
   "execution_count": null,
   "metadata": {},
   "outputs": [],
   "source": []
  }
 ],
 "metadata": {
  "kernelspec": {
   "display_name": "Python 3",
   "language": "python",
   "name": "python3"
  },
  "language_info": {
   "codemirror_mode": {
    "name": "ipython",
    "version": 3
   },
   "file_extension": ".py",
   "mimetype": "text/x-python",
   "name": "python",
   "nbconvert_exporter": "python",
   "pygments_lexer": "ipython3",
   "version": "3.6.5"
  }
 },
 "nbformat": 4,
 "nbformat_minor": 2
}
